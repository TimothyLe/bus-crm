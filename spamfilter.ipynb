{
 "cells": [
  {
   "cell_type": "code",
   "execution_count": 2,
   "metadata": {},
   "outputs": [
    {
     "ename": "IndentationError",
     "evalue": "unindent does not match any outer indentation level (<tokenize>, line 62)",
     "output_type": "error",
     "traceback": [
      "\u001b[1;36m  File \u001b[1;32m\"<tokenize>\"\u001b[1;36m, line \u001b[1;32m62\u001b[0m\n\u001b[1;33m    stinson = True              ham : spam   =    267.4 : 1.0\u001b[0m\n\u001b[1;37m    ^\u001b[0m\n\u001b[1;31mIndentationError\u001b[0m\u001b[1;31m:\u001b[0m unindent does not match any outer indentation level\n"
     ]
    }
   ],
   "source": [
    "## Pre-Filter Algorithm\n",
    "ham_list = []\n",
    "spam_list = []\n",
    " \n",
    "# Same as before, but this time:\n",
    " \n",
    "# 1. Break the sentences into words using word_tokenize\n",
    "# 2. Use the create_word_features() function you just wrote\n",
    "for directories, subdirs, files in os.walk(rootdir):\n",
    "    if (os.path.split(directories)[1]  == 'ham'):\n",
    "        for filename in files:      \n",
    "            with open(os.path.join(directories, filename), encoding=\"latin-1\") as f:\n",
    "                data = f.read()\n",
    "                \n",
    "                # The data we read is one big string. We need to break it into words.\n",
    "                words = word_tokenize(data)\n",
    "                \n",
    "                ham_list.append((create_word_features(words), \"ham\"))\n",
    "    \n",
    "    if (os.path.split(directories)[1]  == 'spam'):\n",
    "        for filename in files:\n",
    "            with open(os.path.join(directories, filename), encoding=\"latin-1\") as f:\n",
    "                data = f.read()\n",
    "                \n",
    "                # The data we read is one big string. We need to break it into words.\n",
    "                words = word_tokenize(data)\n",
    "                \n",
    "                spam_list.append((create_word_features(words), \"spam\"))\n",
    "print(ham_list[0])\n",
    "print(spam_list[0])\n",
    "\n",
    "## Naive Bayes Filter\n",
    "training_part = int(len(combined_list) * .7)\n",
    "\n",
    "print(len(combined_list))\n",
    " \n",
    "training_set = combined_list[:training_part]\n",
    " \n",
    "test_set =  combined_list[training_part:]\n",
    " \n",
    "print (len(training_set))\n",
    "print (len(test_set))\n",
    "\n",
    "# Create the Naive Bayes filter\n",
    " \n",
    "classifier = NaiveBayesClassifier.train(training_set)\n",
    " \n",
    "# Find the accuracy, using the test data\n",
    " \n",
    "accuracy = nltk.classify.util.accuracy(classifier, test_set)\n",
    " \n",
    "print(\"Accuracy is: \", accuracy * 100)\n",
    "    \n",
    "classifier.show_most_informative_features(20)\n",
    " \n",
    "                  enron = True              ham : spam   =   3588.6 : 1.0\n",
    "                     hpl = True              ham : spam   =    577.0 : 1.0\n",
    "                     php = True             spam : ham    =    416.2 : 1.0\n",
    "                     713 = True              ham : spam   =    326.3 : 1.0\n",
    "                  louise = True              ham : spam   =    299.2 : 1.0\n",
    "                     xls = True              ham : spam   =    281.8 : 1.0\n",
    "                 stinson = True              ham : spam   =    267.4 : 1.0\n",
    "                crenshaw = True              ham : spam   =    251.5 : 1.0\n",
    "                     ect = True              ham : spam   =    231.2 : 1.0\n",
    "                   corel = True             spam : ham    =    220.5 : 1.0\n",
    "              macromedia = True             spam : ham    =    210.9 : 1.0\n",
    "              scheduling = True              ham : spam   =    209.6 : 1.0\n",
    "                       \u0001 = True              ham : spam   =    184.1 : 1.0\n",
    "                     sex = True             spam : ham    =    182.3 : 1.0\n",
    "                      xp = True             spam : ham    =    172.6 : 1.0\n",
    "                   daren = True              ham : spam   =    168.7 : 1.0\n",
    "                    1933 = True             spam : ham    =    152.1 : 1.0\n",
    "                    spam = True             spam : ham    =    145.1 : 1.0\n",
    "                 parsing = True              ham : spam   =    137.6 : 1.0\n",
    "                   penis = True             spam : ham    =    117.2 : 1.0"
   ]
  }
 ],
 "metadata": {
  "kernelspec": {
   "display_name": "Python 3",
   "language": "python",
   "name": "python3"
  },
  "language_info": {
   "codemirror_mode": {
    "name": "ipython",
    "version": 3
   },
   "file_extension": ".py",
   "mimetype": "text/x-python",
   "name": "python",
   "nbconvert_exporter": "python",
   "pygments_lexer": "ipython3",
   "version": "3.7.1"
  }
 },
 "nbformat": 4,
 "nbformat_minor": 2
}
