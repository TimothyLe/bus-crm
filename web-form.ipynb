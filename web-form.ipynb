{
 "cells": [
  {
   "cell_type": "code",
   "execution_count": 11,
   "metadata": {},
   "outputs": [
    {
     "name": "stdout",
     "output_type": "stream",
     "text": [
      " * Serving Flask app \"__main__\" (lazy loading)\n",
      " * Environment: production\n",
      "   WARNING: This is a development server. Do not use it in a production deployment.\n",
      "   Use a production WSGI server instead.\n",
      " * Debug mode: on\n"
     ]
    },
    {
     "name": "stderr",
     "output_type": "stream",
     "text": [
      " * Restarting with stat\n"
     ]
    },
    {
     "ename": "SystemExit",
     "evalue": "1",
     "output_type": "error",
     "traceback": [
      "An exception has occurred, use %tb to see the full traceback.\n",
      "\u001b[1;31mSystemExit\u001b[0m\u001b[1;31m:\u001b[0m 1\n"
     ]
    }
   ],
   "source": [
    "from flask import Flask, render_template, flash, request\n",
    "from wtforms import Form, TextField, TextAreaField, validators, StringField, SubmitField\n",
    "import jinja2\n",
    "\n",
    "# App config.\n",
    "DEBUG = True\n",
    "app = Flask(__name__)\n",
    "app.config.from_object(__name__)\n",
    "app.config['SECRET_KEY'] = '7d441f27d441f27567d441f2b6176a'\n",
    "\n",
    "class ReusableForm(Form):\n",
    "    name = TextField('Name:', validators=[validators.DataRequired()])\n",
    "    email = TextField('Email:', validators=[validators.DataRequired(), validators.Length(min=6, max=35)])\n",
    "    password = TextField('Password:', validators=[validators.DataRequired(), validators.Length(min=3, max=35)])\n",
    "    \n",
    "    @app.route(\"/\", methods=['GET', 'POST'])\n",
    "    def hello():\n",
    "        form = ReusableForm(request.form)\n",
    "    \n",
    "        print(form.errors)\n",
    "        if request.method == 'POST':\n",
    "            name=request.form['name']\n",
    "            password=request.form['password']\n",
    "            email=request.form['email']\n",
    "            print(name, \" \", email, \" \", password)\n",
    "    \n",
    "        if form.validate():\n",
    "        # Save the comment here.\n",
    "            flash('Thanks for registration ' + name)\n",
    "        else:\n",
    "            flash('Error: All the form fields are required. ')\n",
    "    \n",
    "        return render_template('hello.html', form=form)\n",
    "\n",
    "if __name__ == \"__main__\":\n",
    "    app.run()"
   ]
  }
 ],
 "metadata": {
  "kernelspec": {
   "display_name": "Python 3",
   "language": "python",
   "name": "python3"
  },
  "language_info": {
   "codemirror_mode": {
    "name": "ipython",
    "version": 3
   },
   "file_extension": ".py",
   "mimetype": "text/x-python",
   "name": "python",
   "nbconvert_exporter": "python",
   "pygments_lexer": "ipython3",
   "version": "3.7.1"
  }
 },
 "nbformat": 4,
 "nbformat_minor": 2
}
